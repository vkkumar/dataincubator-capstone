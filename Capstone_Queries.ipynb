{
 "cells": [
  {
   "cell_type": "markdown",
   "metadata": {},
   "source": [
    "## Load packages for the project..."
   ]
  },
  {
   "cell_type": "code",
   "execution_count": 17,
   "metadata": {
    "collapsed": false
   },
   "outputs": [],
   "source": [
    "import sqlite3\n",
    "import pandas as pd\n",
    "import numpy as np\n",
    "import matplotlib\n",
    "import matplotlib.pyplot as plt\n",
    "import seaborn as sns\n",
    "\n",
    "%matplotlib inline\n",
    "matplotlib.rcParams['savefig.dpi'] = 2 * matplotlib.rcParams['savefig.dpi']\n",
    "\n",
    "import itertools\n",
    "import cPickle"
   ]
  },
  {
   "cell_type": "markdown",
   "metadata": {},
   "source": [
    "## Load sqlite database..."
   ]
  },
  {
   "cell_type": "code",
   "execution_count": 2,
   "metadata": {
    "collapsed": false
   },
   "outputs": [
    {
     "name": "stdout",
     "output_type": "stream",
     "text": [
      "/home/vagrant/datacourse/Capstone/CollegeScorecard_Raw_Data\n"
     ]
    }
   ],
   "source": [
    "cd ~/datacourse/Capstone/CollegeScorecard_Raw_Data/"
   ]
  },
  {
   "cell_type": "code",
   "execution_count": 3,
   "metadata": {
    "collapsed": false
   },
   "outputs": [],
   "source": [
    "conn = sqlite3.connect('database.sqlite')"
   ]
  },
  {
   "cell_type": "code",
   "execution_count": 4,
   "metadata": {
    "collapsed": false
   },
   "outputs": [
    {
     "data": {
      "text/html": [
       "<div>\n",
       "<table border=\"1\" class=\"dataframe\">\n",
       "  <thead>\n",
       "    <tr style=\"text-align: right;\">\n",
       "      <th></th>\n",
       "      <th>count(*)</th>\n",
       "    </tr>\n",
       "  </thead>\n",
       "  <tbody>\n",
       "    <tr>\n",
       "      <th>0</th>\n",
       "      <td>124699</td>\n",
       "    </tr>\n",
       "  </tbody>\n",
       "</table>\n",
       "</div>"
      ],
      "text/plain": [
       "   count(*)\n",
       "0    124699"
      ]
     },
     "execution_count": 4,
     "metadata": {},
     "output_type": "execute_result"
    }
   ],
   "source": [
    "sqlstr = \"SELECT count(*) FROM Scorecard\"\n",
    "pd.read_sql(sqlstr, conn)"
   ]
  },
  {
   "cell_type": "markdown",
   "metadata": {},
   "source": [
    "## Table of Variables"
   ]
  },
  {
   "cell_type": "markdown",
   "metadata": {
    "collapsed": true
   },
   "source": [
    " Variable Name  | What it means?                                                                              \n",
    " :-----------:|------------------------------------------------------------------------------------------- \n",
    " NPT4_PRIV    | Average net price for Title IV institutions (private for-profit and nonprofit institutions) \n",
    " YEAR         | Academic year \n",
    " UNITID | UnivID\n",
    "  INSTNM    | College,\\\n",
    "  CONTROL   | CollegeType,\\\n",
    "  COSTT4_A  |Cost,\\\n",
    "  TUITFTE    |TuitionFTE,\\\n",
    "  INEXPFTE   |ExpenditureFTE,\\\n",
    "  AVGFACSAL  |AvgFacultySal,\\\n",
    "  UGDS       |UGEnrollment,\\\n",
    "  SATMTMID   |Math,\\\n",
    "  SATVRMID   |Verbal,\\\n",
    "  SATWRMID   |Writing,\\\n",
    "  PCTPELL    |PercentPell,\\\n",
    "  DEBT_MDN   |MedianDebt,\\\n",
    "  INC_PCT_M1 |\n",
    "  INC_PCT_M2 |\n",
    "  INC_PCT_H1 |\n",
    "  INC_PCT_H2 |\n",
    "  mn_earn_wne_p10 | E50"
   ]
  },
  {
   "cell_type": "markdown",
   "metadata": {},
   "source": [
    "## Admission rates..."
   ]
  },
  {
   "cell_type": "code",
   "execution_count": 5,
   "metadata": {
    "collapsed": true
   },
   "outputs": [],
   "source": [
    "admRateStr = \"SELECT INSTNM College,\\\n",
    "                ADM_RATE*100.0 AdmissionRate\\\n",
    "                FROM Scorecard\\\n",
    "                WHERE Year=2013\\\n",
    "                AND ADM_RATE IS NOT NULL\\\n",
    "                AND ADM_RATE != 0.0\\\n",
    "                AND PREDDEG='Predominantly bachelor''s-degree granting'\\\n",
    "                AND CCBASIC NOT LIKE '%Special Focus%'\\\n",
    "                ORDER BY ADM_RATE\\\n",
    "                LIMIT 20\"\n",
    "\n",
    "adminRateDF = pd.read_sql(admRateStr, conn)"
   ]
  },
  {
   "cell_type": "code",
   "execution_count": 6,
   "metadata": {
    "collapsed": true
   },
   "outputs": [],
   "source": [
    "cPickle.dump(adminRateDF, open('adminRateDF.pkl', 'wb'))"
   ]
  },
  {
   "cell_type": "markdown",
   "metadata": {},
   "source": [
    "## Data available for school years...."
   ]
  },
  {
   "cell_type": "code",
   "execution_count": 18,
   "metadata": {
    "collapsed": false
   },
   "outputs": [
    {
     "data": {
      "text/html": [
       "<div>\n",
       "<table border=\"1\" class=\"dataframe\">\n",
       "  <thead>\n",
       "    <tr style=\"text-align: right;\">\n",
       "      <th></th>\n",
       "      <th>Year</th>\n",
       "    </tr>\n",
       "  </thead>\n",
       "  <tbody>\n",
       "    <tr>\n",
       "      <th>0</th>\n",
       "      <td>1996</td>\n",
       "    </tr>\n",
       "    <tr>\n",
       "      <th>1</th>\n",
       "      <td>1997</td>\n",
       "    </tr>\n",
       "    <tr>\n",
       "      <th>2</th>\n",
       "      <td>1998</td>\n",
       "    </tr>\n",
       "    <tr>\n",
       "      <th>3</th>\n",
       "      <td>1999</td>\n",
       "    </tr>\n",
       "    <tr>\n",
       "      <th>4</th>\n",
       "      <td>2000</td>\n",
       "    </tr>\n",
       "    <tr>\n",
       "      <th>5</th>\n",
       "      <td>2001</td>\n",
       "    </tr>\n",
       "    <tr>\n",
       "      <th>6</th>\n",
       "      <td>2002</td>\n",
       "    </tr>\n",
       "    <tr>\n",
       "      <th>7</th>\n",
       "      <td>2003</td>\n",
       "    </tr>\n",
       "    <tr>\n",
       "      <th>8</th>\n",
       "      <td>2004</td>\n",
       "    </tr>\n",
       "    <tr>\n",
       "      <th>9</th>\n",
       "      <td>2005</td>\n",
       "    </tr>\n",
       "    <tr>\n",
       "      <th>10</th>\n",
       "      <td>2006</td>\n",
       "    </tr>\n",
       "    <tr>\n",
       "      <th>11</th>\n",
       "      <td>2007</td>\n",
       "    </tr>\n",
       "    <tr>\n",
       "      <th>12</th>\n",
       "      <td>2008</td>\n",
       "    </tr>\n",
       "    <tr>\n",
       "      <th>13</th>\n",
       "      <td>2009</td>\n",
       "    </tr>\n",
       "    <tr>\n",
       "      <th>14</th>\n",
       "      <td>2010</td>\n",
       "    </tr>\n",
       "    <tr>\n",
       "      <th>15</th>\n",
       "      <td>2011</td>\n",
       "    </tr>\n",
       "    <tr>\n",
       "      <th>16</th>\n",
       "      <td>2012</td>\n",
       "    </tr>\n",
       "    <tr>\n",
       "      <th>17</th>\n",
       "      <td>2013</td>\n",
       "    </tr>\n",
       "  </tbody>\n",
       "</table>\n",
       "</div>"
      ],
      "text/plain": [
       "    Year\n",
       "0   1996\n",
       "1   1997\n",
       "2   1998\n",
       "3   1999\n",
       "4   2000\n",
       "5   2001\n",
       "6   2002\n",
       "7   2003\n",
       "8   2004\n",
       "9   2005\n",
       "10  2006\n",
       "11  2007\n",
       "12  2008\n",
       "13  2009\n",
       "14  2010\n",
       "15  2011\n",
       "16  2012\n",
       "17  2013"
      ]
     },
     "execution_count": 18,
     "metadata": {},
     "output_type": "execute_result"
    }
   ],
   "source": [
    "sqlstr = \"SELECT DISTINCT Year FROM Scorecard\"\n",
    "pd.read_sql(sqlstr, conn)"
   ]
  },
  {
   "cell_type": "markdown",
   "metadata": {},
   "source": [
    "## Number of schools over the years..."
   ]
  },
  {
   "cell_type": "code",
   "execution_count": 6,
   "metadata": {
    "collapsed": true
   },
   "outputs": [],
   "source": [
    "noOfSchoolsStr =  \"SELECT Year, COUNT(Id) NumSchools FROM Scorecard GROUP BY Year\"\n",
    "noOfSchools = pd.read_sql(noOfSchoolsStr, conn)"
   ]
  },
  {
   "cell_type": "code",
   "execution_count": 7,
   "metadata": {
    "collapsed": true
   },
   "outputs": [],
   "source": [
    "cPickle.dump(noOfSchools, open('noOfSchools.pkl', 'wb'))"
   ]
  },
  {
   "cell_type": "markdown",
   "metadata": {},
   "source": [
    "## Figure out the geo-coordinates of all schools..."
   ]
  },
  {
   "cell_type": "code",
   "execution_count": 8,
   "metadata": {
    "collapsed": false
   },
   "outputs": [],
   "source": [
    "sqlstr = \"SELECT    UNITID, \\\n",
    "                    INSTNM, \\\n",
    "                    CITY, \\\n",
    "                    STABBR, \\\n",
    "                    ZIP, \\\n",
    "                    PREDDEG, \\\n",
    "                    CURROPER,\\\n",
    "                    TUITIONFEE_IN, \\\n",
    "                    LATITUDE, \\\n",
    "                    LONGITUDE, \\\n",
    "                    DISTANCEONLY,\\\n",
    "                    DEATH_YR4_RT, \\\n",
    "                    COMP_ORIG_YR4_RT, \\\n",
    "                    GRAD_DEBT_MDN \\\n",
    "          FROM Scorecard\" \n",
    "schoolsDF = pd.read_sql(sqlstr, conn)"
   ]
  },
  {
   "cell_type": "code",
   "execution_count": 9,
   "metadata": {
    "collapsed": true
   },
   "outputs": [],
   "source": [
    "cPickle.dump(schoolsDF, open('schoolsDF.pkl', 'wb'))"
   ]
  },
  {
   "cell_type": "markdown",
   "metadata": {},
   "source": [
    "## School address and geolocation..."
   ]
  },
  {
   "cell_type": "code",
   "execution_count": null,
   "metadata": {
    "collapsed": true
   },
   "outputs": [],
   "source": [
    "sqlstr = \"SELECT    UNITID, \\\n",
    "                    INSTNM, \\\n",
    "                    CITY, \\\n",
    "                    STABBR, \\\n",
    "                    ZIP \\\n",
    "          FROM Scorecard\" \n",
    "schoolAddress = pd.read_sql(sqlstr, conn)"
   ]
  },
  {
   "cell_type": "code",
   "execution_count": null,
   "metadata": {
    "collapsed": false
   },
   "outputs": [],
   "source": [
    "schoolAddress.to_csv('schoolAddress.csv', encoding='utf-8')"
   ]
  },
  {
   "cell_type": "code",
   "execution_count": null,
   "metadata": {
    "collapsed": true
   },
   "outputs": [],
   "source": [
    "schoolLoc = pd.read_csv('schoolAddress.csv')"
   ]
  },
  {
   "cell_type": "code",
   "execution_count": null,
   "metadata": {
    "collapsed": true
   },
   "outputs": [],
   "source": [
    "def zipCode(string):\n",
    "    return string[0:5]\n",
    "schoolLoc['ZIP'] = schoolLoc['ZIP'].apply(zipCode)"
   ]
  },
  {
   "cell_type": "code",
   "execution_count": null,
   "metadata": {
    "collapsed": false
   },
   "outputs": [],
   "source": [
    "schoolLocList = pd.DataFrame(list(schoolLoc['INSTNM'] +', '\n",
    "                              + schoolLoc['CITY'] +', '\n",
    "                              + schoolLoc['STABBR']+', '\n",
    "                              + schoolLoc['ZIP']))"
   ]
  },
  {
   "cell_type": "code",
   "execution_count": null,
   "metadata": {
    "collapsed": false
   },
   "outputs": [],
   "source": [
    "address = []\n",
    "for i in range(len(schoolLocList)):\n",
    "    address.append(schoolLocList.values[i][0])\n",
    "    print str(schoolLocList.values[i][0])\n",
    "    if i > 20:\n",
    "        break"
   ]
  },
  {
   "cell_type": "code",
   "execution_count": null,
   "metadata": {
    "collapsed": true
   },
   "outputs": [],
   "source": [
    "import matplotlib.pyplot as plt\n",
    "import numpy as np\n",
    "import seaborn as sns"
   ]
  },
  {
   "cell_type": "markdown",
   "metadata": {},
   "source": [
    "## School enrollment"
   ]
  },
  {
   "cell_type": "code",
   "execution_count": 10,
   "metadata": {
    "collapsed": false
   },
   "outputs": [],
   "source": [
    "enrollmentStr = \"SELECT INSTNM College, \\\n",
    "                 UGDS UndergradEnrollment,\\\n",
    "                 CONTROL CollegeType\\\n",
    "                 FROM Scorecard\\\n",
    "                 WHERE Year = 2013\\\n",
    "                 AND PREDDEG = 'Predominantly bachelor''s-degree granting'\\\n",
    "                 AND CCBASIC NOT LIKE '%Special Focus%'\\\n",
    "                 AND UGDS IS NOT NULL\\\n",
    "                 AND UGDS > 0\\\n",
    "                 ORDER BY UGDS DESC\"\n",
    "enrollment = pd.read_sql(enrollmentStr, conn)"
   ]
  },
  {
   "cell_type": "code",
   "execution_count": 11,
   "metadata": {
    "collapsed": true
   },
   "outputs": [],
   "source": [
    "cPickle.dump(enrollment, open('enrollment.pkl', 'wb'))"
   ]
  },
  {
   "cell_type": "markdown",
   "metadata": {},
   "source": [
    "## College cost..."
   ]
  },
  {
   "cell_type": "code",
   "execution_count": 12,
   "metadata": {
    "collapsed": true
   },
   "outputs": [],
   "source": [
    "costSqlStr = \"SELECT INSTNM College,\\\n",
    "                COSTT4_A Cost, \\\n",
    "                CONTROL CollegeType\\\n",
    "                FROM Scorecard\\\n",
    "                WHERE Year=2013\\\n",
    "                AND PREDDEG='Predominantly bachelor''s-degree granting'\\\n",
    "                AND CCBASIC NOT LIKE '%Special Focus%'\\\n",
    "                AND COSTT4_A IS NOT NULL\\\n",
    "                ORDER BY COSTT4_A DESC\"\n",
    "collegeCost = pd.read_sql(costSqlStr, conn)"
   ]
  },
  {
   "cell_type": "code",
   "execution_count": 13,
   "metadata": {
    "collapsed": false
   },
   "outputs": [],
   "source": [
    "cPickle.dump(collegeCost, open('collegeCost.pkl', 'wb'))"
   ]
  },
  {
   "cell_type": "markdown",
   "metadata": {},
   "source": [
    "## Median earnings once they graduate..."
   ]
  },
  {
   "cell_type": "code",
   "execution_count": 14,
   "metadata": {
    "collapsed": false
   },
   "outputs": [],
   "source": [
    "earningsStr = \"SELECT s11.INSTNM College,\\\n",
    "               s11.CONTROL CollegeType,\\\n",
    "               s11.md_earn_wne_p10 e50,\\\n",
    "               s11.pct10_earn_wne_p10 e10,\\\n",
    "               s11.pct25_earn_wne_p10 e25,\\\n",
    "               s11.pct75_earn_wne_p10 e75,\\\n",
    "               s11.pct90_earn_wne_p10 e90\\\n",
    "            FROM Scorecard s11\\\n",
    "            INNER JOIN Scorecard s13 ON s11.UNITID=s13.UNITID\\\n",
    "            WHERE s11.Year=2011\\\n",
    "              AND s13.Year=2013\\\n",
    "              AND s11.pct75_earn_wne_p10 IS NOT NULL\\\n",
    "              AND s11.pct75_earn_wne_p10 != 'PrivacySuppressed'\\\n",
    "              AND s11.PREDDEG = 'Predominantly bachelor''s-degree granting'\\\n",
    "              AND s13.CCBASIC NOT LIKE '%Special%'\\\n",
    "            ORDER BY s11.pct75_earn_wne_p10 DESC\"\n",
    "\n",
    "earnings = pd.read_sql(earningsStr, conn)"
   ]
  },
  {
   "cell_type": "code",
   "execution_count": 15,
   "metadata": {
    "collapsed": false
   },
   "outputs": [],
   "source": [
    "cPickle.dump(earnings, open('earnings.pkl', 'wb'))"
   ]
  },
  {
   "cell_type": "markdown",
   "metadata": {
    "collapsed": false
   },
   "source": [
    "##SAT Performance..."
   ]
  },
  {
   "cell_type": "code",
   "execution_count": 16,
   "metadata": {
    "collapsed": true
   },
   "outputs": [],
   "source": [
    "SATstr = \"SELECT INSTNM College,\\\n",
    "           SATMTMID Math,\\\n",
    "           SATVRMID Verbal,\\\n",
    "           SATWRMID Writing\\\n",
    "        FROM Scorecard\\\n",
    "        WHERE Year=2011\\\n",
    "          AND SATMTMID IS NOT NULL\\\n",
    "          AND SATMTMID != 'PrivacySuppressed'\\\n",
    "          AND SATVRMID IS NOT NULL\\\n",
    "          AND SATVRMID != 'PrivacySuppressed'\\\n",
    "          AND SATWRMID IS NOT NULL\\\n",
    "          AND SATWRMID != 'PrivacySuppressed'\"\n",
    "SATPerformance = pd.read_sql(SATstr, conn)"
   ]
  },
  {
   "cell_type": "code",
   "execution_count": 17,
   "metadata": {
    "collapsed": false
   },
   "outputs": [],
   "source": [
    "cPickle.dump(SATPerformance, open('SATPerformance.pkl', 'wb'))"
   ]
  },
  {
   "cell_type": "markdown",
   "metadata": {},
   "source": [
    "## Pell grant to median income correlation..."
   ]
  },
  {
   "cell_type": "code",
   "execution_count": 18,
   "metadata": {
    "collapsed": false
   },
   "outputs": [],
   "source": [
    "PellStr = \"SELECT INSTNM College,\\\n",
    "                  PCTPELL  PercentPell,\\\n",
    "                  md_earn_wne_p10 e50\\\n",
    "            FROM Scorecard\\\n",
    "            WHERE Year=2011\\\n",
    "                AND PCTPELL IS NOT NULL\\\n",
    "                AND md_earn_wne_p10 != 'PrivacySuppressed'\"\n",
    "PellMatrix = pd.read_sql(PellStr, conn)"
   ]
  },
  {
   "cell_type": "code",
   "execution_count": 19,
   "metadata": {
    "collapsed": true
   },
   "outputs": [],
   "source": [
    "cPickle.dump(PellMatrix, open('PellMatrix.pkl', 'wb'))"
   ]
  },
  {
   "cell_type": "markdown",
   "metadata": {},
   "source": [
    "## Completion rate analysis..."
   ]
  },
  {
   "cell_type": "code",
   "execution_count": 49,
   "metadata": {
    "collapsed": false
   },
   "outputs": [],
   "source": [
    "completionStr = \"SELECT INSTNM                     College,\\\n",
    "                        Year                       Year,\\\n",
    "                        C150_4                     completion_rate_4yr_150nt\\\n",
    "                 FROM Scorecard\"\n",
    "CompletionRate = pd.read_sql(completionStr, conn)"
   ]
  },
  {
   "cell_type": "code",
   "execution_count": 56,
   "metadata": {
    "collapsed": false
   },
   "outputs": [
    {
     "data": {
      "text/html": [
       "<div>\n",
       "<table border=\"1\" class=\"dataframe\">\n",
       "  <thead>\n",
       "    <tr style=\"text-align: right;\">\n",
       "      <th></th>\n",
       "      <th>College</th>\n",
       "      <th>Year</th>\n",
       "      <th>completion_rate_4yr_150nt</th>\n",
       "    </tr>\n",
       "  </thead>\n",
       "  <tbody>\n",
       "    <tr>\n",
       "      <th>6795</th>\n",
       "      <td>ALABAMA A &amp; M UNIVERSITY</td>\n",
       "      <td>1997</td>\n",
       "      <td>0.3455</td>\n",
       "    </tr>\n",
       "    <tr>\n",
       "      <th>6796</th>\n",
       "      <td>UNIVERSITY OF ALABAMA AT BIRMINGHAM</td>\n",
       "      <td>1997</td>\n",
       "      <td>0.3319</td>\n",
       "    </tr>\n",
       "    <tr>\n",
       "      <th>6799</th>\n",
       "      <td>UNIVERSITY OF ALABAMA IN HUNTSVILLE</td>\n",
       "      <td>1997</td>\n",
       "      <td>0.3333</td>\n",
       "    </tr>\n",
       "    <tr>\n",
       "      <th>6800</th>\n",
       "      <td>ALABAMA STATE UNIVERSITY</td>\n",
       "      <td>1997</td>\n",
       "      <td>0.1785</td>\n",
       "    </tr>\n",
       "    <tr>\n",
       "      <th>6801</th>\n",
       "      <td>THE UNIVERSITY OF ALABAMA</td>\n",
       "      <td>1997</td>\n",
       "      <td>0.5735</td>\n",
       "    </tr>\n",
       "    <tr>\n",
       "      <th>6805</th>\n",
       "      <td>AUBURN UNIVERSITY MAIN CAMPUS</td>\n",
       "      <td>1997</td>\n",
       "      <td>0.6505</td>\n",
       "    </tr>\n",
       "    <tr>\n",
       "      <th>6810</th>\n",
       "      <td>CONCORDIA COLLEGE</td>\n",
       "      <td>1997</td>\n",
       "      <td>0.1739</td>\n",
       "    </tr>\n",
       "    <tr>\n",
       "      <th>6826</th>\n",
       "      <td>HERZING COLLEGE</td>\n",
       "      <td>1997</td>\n",
       "      <td>0.5356</td>\n",
       "    </tr>\n",
       "    <tr>\n",
       "      <th>6827</th>\n",
       "      <td>HUNTINGDON COLLEGE</td>\n",
       "      <td>1997</td>\n",
       "      <td>0.4392</td>\n",
       "    </tr>\n",
       "    <tr>\n",
       "      <th>6828</th>\n",
       "      <td>INTERNATIONAL BIBLE COLLEGE</td>\n",
       "      <td>1997</td>\n",
       "      <td>0.4000</td>\n",
       "    </tr>\n",
       "    <tr>\n",
       "      <th>6830</th>\n",
       "      <td>JACKSONVILLE STATE UNIVERSITY</td>\n",
       "      <td>1997</td>\n",
       "      <td>0.2891</td>\n",
       "    </tr>\n",
       "    <tr>\n",
       "      <th>6835</th>\n",
       "      <td>JUDSON COLLEGE</td>\n",
       "      <td>1997</td>\n",
       "      <td>0.4435</td>\n",
       "    </tr>\n",
       "    <tr>\n",
       "      <th>6837</th>\n",
       "      <td>UNIVERSITY OF WEST ALABAMA</td>\n",
       "      <td>1997</td>\n",
       "      <td>0.2484</td>\n",
       "    </tr>\n",
       "    <tr>\n",
       "      <th>6840</th>\n",
       "      <td>MILES COLLEGE</td>\n",
       "      <td>1997</td>\n",
       "      <td>0.8027</td>\n",
       "    </tr>\n",
       "    <tr>\n",
       "      <th>6844</th>\n",
       "      <td>UNIVERSITY OF NORTH ALABAMA</td>\n",
       "      <td>1997</td>\n",
       "      <td>0.3033</td>\n",
       "    </tr>\n",
       "    <tr>\n",
       "      <th>6846</th>\n",
       "      <td>OAKWOOD COLLEGE</td>\n",
       "      <td>1997</td>\n",
       "      <td>0.3808</td>\n",
       "    </tr>\n",
       "    <tr>\n",
       "      <th>6851</th>\n",
       "      <td>SAMFORD UNIVERSITY</td>\n",
       "      <td>1997</td>\n",
       "      <td>0.5975</td>\n",
       "    </tr>\n",
       "    <tr>\n",
       "      <th>6854</th>\n",
       "      <td>UNIVERSITY OF SOUTH ALABAMA</td>\n",
       "      <td>1997</td>\n",
       "      <td>0.3072</td>\n",
       "    </tr>\n",
       "    <tr>\n",
       "      <th>6855</th>\n",
       "      <td>UNIVERSITY OF SOUTH ALABAMA-BALDWIN</td>\n",
       "      <td>1997</td>\n",
       "      <td>0.3000</td>\n",
       "    </tr>\n",
       "    <tr>\n",
       "      <th>6857</th>\n",
       "      <td>SPRING HILL COLLEGE</td>\n",
       "      <td>1997</td>\n",
       "      <td>0.5018</td>\n",
       "    </tr>\n",
       "    <tr>\n",
       "      <th>6858</th>\n",
       "      <td>SOUTHEASTERN BIBLE COLLEGE</td>\n",
       "      <td>1997</td>\n",
       "      <td>0.4231</td>\n",
       "    </tr>\n",
       "    <tr>\n",
       "      <th>6859</th>\n",
       "      <td>STILLMAN COLLEGE</td>\n",
       "      <td>1997</td>\n",
       "      <td>0.3730</td>\n",
       "    </tr>\n",
       "    <tr>\n",
       "      <th>6862</th>\n",
       "      <td>TROY STATE UNIVERSITY-DOTHAN</td>\n",
       "      <td>1997</td>\n",
       "      <td>1.0000</td>\n",
       "    </tr>\n",
       "    <tr>\n",
       "      <th>6864</th>\n",
       "      <td>TROY STATE UNIVERSITY-MONTGOMERY</td>\n",
       "      <td>1997</td>\n",
       "      <td>0.0562</td>\n",
       "    </tr>\n",
       "    <tr>\n",
       "      <th>6865</th>\n",
       "      <td>TROY STATE UNIVERSITY-MAIN CAMPUS</td>\n",
       "      <td>1997</td>\n",
       "      <td>0.4010</td>\n",
       "    </tr>\n",
       "    <tr>\n",
       "      <th>6866</th>\n",
       "      <td>TUSKEGEE UNIVERSITY</td>\n",
       "      <td>1997</td>\n",
       "      <td>0.4516</td>\n",
       "    </tr>\n",
       "    <tr>\n",
       "      <th>6870</th>\n",
       "      <td>UNIVERSITY OF ALASKA ANCHORAGE</td>\n",
       "      <td>1997</td>\n",
       "      <td>0.1544</td>\n",
       "    </tr>\n",
       "    <tr>\n",
       "      <th>6871</th>\n",
       "      <td>UNIVERSITY OF ALASKA FAIRBANKS</td>\n",
       "      <td>1997</td>\n",
       "      <td>0.2233</td>\n",
       "    </tr>\n",
       "    <tr>\n",
       "      <th>6872</th>\n",
       "      <td>UNIVERSITY OF ALASKA SOUTHEAST</td>\n",
       "      <td>1997</td>\n",
       "      <td>0.1176</td>\n",
       "    </tr>\n",
       "    <tr>\n",
       "      <th>6873</th>\n",
       "      <td>ALASKA PACIFIC UNIVERSITY</td>\n",
       "      <td>1997</td>\n",
       "      <td>0.1667</td>\n",
       "    </tr>\n",
       "    <tr>\n",
       "      <th>...</th>\n",
       "      <td>...</td>\n",
       "      <td>...</td>\n",
       "      <td>...</td>\n",
       "    </tr>\n",
       "    <tr>\n",
       "      <th>124153</th>\n",
       "      <td>Mid-South Christian College</td>\n",
       "      <td>2013</td>\n",
       "      <td>0.2500</td>\n",
       "    </tr>\n",
       "    <tr>\n",
       "      <th>124174</th>\n",
       "      <td>Yeshiva Yesodei Hatorah</td>\n",
       "      <td>2013</td>\n",
       "      <td>0.5000</td>\n",
       "    </tr>\n",
       "    <tr>\n",
       "      <th>124217</th>\n",
       "      <td>Georgia Regents University</td>\n",
       "      <td>2013</td>\n",
       "      <td>0.2935</td>\n",
       "    </tr>\n",
       "    <tr>\n",
       "      <th>124218</th>\n",
       "      <td>Middle Georgia State College</td>\n",
       "      <td>2013</td>\n",
       "      <td>0.1343</td>\n",
       "    </tr>\n",
       "    <tr>\n",
       "      <th>124224</th>\n",
       "      <td>Virginia Baptist College</td>\n",
       "      <td>2013</td>\n",
       "      <td>0.1000</td>\n",
       "    </tr>\n",
       "    <tr>\n",
       "      <th>124239</th>\n",
       "      <td>DeVry College of New York</td>\n",
       "      <td>2013</td>\n",
       "      <td>0.2155</td>\n",
       "    </tr>\n",
       "    <tr>\n",
       "      <th>124240</th>\n",
       "      <td>DeVry University-Arizona</td>\n",
       "      <td>2013</td>\n",
       "      <td>0.2675</td>\n",
       "    </tr>\n",
       "    <tr>\n",
       "      <th>124241</th>\n",
       "      <td>DeVry University-California</td>\n",
       "      <td>2013</td>\n",
       "      <td>0.3367</td>\n",
       "    </tr>\n",
       "    <tr>\n",
       "      <th>124242</th>\n",
       "      <td>DeVry University-Colorado</td>\n",
       "      <td>2013</td>\n",
       "      <td>0.3654</td>\n",
       "    </tr>\n",
       "    <tr>\n",
       "      <th>124243</th>\n",
       "      <td>DeVry University-Florida</td>\n",
       "      <td>2013</td>\n",
       "      <td>0.3799</td>\n",
       "    </tr>\n",
       "    <tr>\n",
       "      <th>124244</th>\n",
       "      <td>DeVry University-Georgia</td>\n",
       "      <td>2013</td>\n",
       "      <td>0.2968</td>\n",
       "    </tr>\n",
       "    <tr>\n",
       "      <th>124245</th>\n",
       "      <td>DeVry University-Illinois</td>\n",
       "      <td>2013</td>\n",
       "      <td>0.2939</td>\n",
       "    </tr>\n",
       "    <tr>\n",
       "      <th>124246</th>\n",
       "      <td>DeVry University-Indiana</td>\n",
       "      <td>2013</td>\n",
       "      <td>0.1250</td>\n",
       "    </tr>\n",
       "    <tr>\n",
       "      <th>124248</th>\n",
       "      <td>DeVry University-Maryland</td>\n",
       "      <td>2013</td>\n",
       "      <td>0.0000</td>\n",
       "    </tr>\n",
       "    <tr>\n",
       "      <th>124250</th>\n",
       "      <td>DeVry University-Minnesota</td>\n",
       "      <td>2013</td>\n",
       "      <td>0.2857</td>\n",
       "    </tr>\n",
       "    <tr>\n",
       "      <th>124251</th>\n",
       "      <td>DeVry University-Missouri</td>\n",
       "      <td>2013</td>\n",
       "      <td>0.2877</td>\n",
       "    </tr>\n",
       "    <tr>\n",
       "      <th>124252</th>\n",
       "      <td>DeVry University-Nevada</td>\n",
       "      <td>2013</td>\n",
       "      <td>0.6364</td>\n",
       "    </tr>\n",
       "    <tr>\n",
       "      <th>124253</th>\n",
       "      <td>DeVry University-New Jersey</td>\n",
       "      <td>2013</td>\n",
       "      <td>0.3979</td>\n",
       "    </tr>\n",
       "    <tr>\n",
       "      <th>124254</th>\n",
       "      <td>DeVry University-North Carolina</td>\n",
       "      <td>2013</td>\n",
       "      <td>0.0909</td>\n",
       "    </tr>\n",
       "    <tr>\n",
       "      <th>124255</th>\n",
       "      <td>DeVry University-Ohio</td>\n",
       "      <td>2013</td>\n",
       "      <td>0.3933</td>\n",
       "    </tr>\n",
       "    <tr>\n",
       "      <th>124256</th>\n",
       "      <td>DeVry University-Oklahoma</td>\n",
       "      <td>2013</td>\n",
       "      <td>0.5000</td>\n",
       "    </tr>\n",
       "    <tr>\n",
       "      <th>124257</th>\n",
       "      <td>DeVry University-Oregon</td>\n",
       "      <td>2013</td>\n",
       "      <td>0.0000</td>\n",
       "    </tr>\n",
       "    <tr>\n",
       "      <th>124258</th>\n",
       "      <td>DeVry University-Pennsylvania</td>\n",
       "      <td>2013</td>\n",
       "      <td>0.2370</td>\n",
       "    </tr>\n",
       "    <tr>\n",
       "      <th>124259</th>\n",
       "      <td>DeVry University-Tennessee</td>\n",
       "      <td>2013</td>\n",
       "      <td>0.0000</td>\n",
       "    </tr>\n",
       "    <tr>\n",
       "      <th>124260</th>\n",
       "      <td>DeVry University-Texas</td>\n",
       "      <td>2013</td>\n",
       "      <td>0.2919</td>\n",
       "    </tr>\n",
       "    <tr>\n",
       "      <th>124262</th>\n",
       "      <td>DeVry University-Virginia</td>\n",
       "      <td>2013</td>\n",
       "      <td>0.2247</td>\n",
       "    </tr>\n",
       "    <tr>\n",
       "      <th>124263</th>\n",
       "      <td>DeVry University-Washington</td>\n",
       "      <td>2013</td>\n",
       "      <td>0.2903</td>\n",
       "    </tr>\n",
       "    <tr>\n",
       "      <th>124264</th>\n",
       "      <td>DeVry University-Wisconsin</td>\n",
       "      <td>2013</td>\n",
       "      <td>0.0000</td>\n",
       "    </tr>\n",
       "    <tr>\n",
       "      <th>124265</th>\n",
       "      <td>University of North Georgia</td>\n",
       "      <td>2013</td>\n",
       "      <td>0.2597</td>\n",
       "    </tr>\n",
       "    <tr>\n",
       "      <th>124266</th>\n",
       "      <td>South Georgia State College</td>\n",
       "      <td>2013</td>\n",
       "      <td>0.1497</td>\n",
       "    </tr>\n",
       "  </tbody>\n",
       "</table>\n",
       "<p>34880 rows × 3 columns</p>\n",
       "</div>"
      ],
      "text/plain": [
       "                                    College  Year  completion_rate_4yr_150nt\n",
       "6795               ALABAMA A & M UNIVERSITY  1997                     0.3455\n",
       "6796    UNIVERSITY OF ALABAMA AT BIRMINGHAM  1997                     0.3319\n",
       "6799    UNIVERSITY OF ALABAMA IN HUNTSVILLE  1997                     0.3333\n",
       "6800               ALABAMA STATE UNIVERSITY  1997                     0.1785\n",
       "6801              THE UNIVERSITY OF ALABAMA  1997                     0.5735\n",
       "6805          AUBURN UNIVERSITY MAIN CAMPUS  1997                     0.6505\n",
       "6810                      CONCORDIA COLLEGE  1997                     0.1739\n",
       "6826                        HERZING COLLEGE  1997                     0.5356\n",
       "6827                     HUNTINGDON COLLEGE  1997                     0.4392\n",
       "6828            INTERNATIONAL BIBLE COLLEGE  1997                     0.4000\n",
       "6830          JACKSONVILLE STATE UNIVERSITY  1997                     0.2891\n",
       "6835                         JUDSON COLLEGE  1997                     0.4435\n",
       "6837             UNIVERSITY OF WEST ALABAMA  1997                     0.2484\n",
       "6840                          MILES COLLEGE  1997                     0.8027\n",
       "6844            UNIVERSITY OF NORTH ALABAMA  1997                     0.3033\n",
       "6846                        OAKWOOD COLLEGE  1997                     0.3808\n",
       "6851                     SAMFORD UNIVERSITY  1997                     0.5975\n",
       "6854            UNIVERSITY OF SOUTH ALABAMA  1997                     0.3072\n",
       "6855    UNIVERSITY OF SOUTH ALABAMA-BALDWIN  1997                     0.3000\n",
       "6857                    SPRING HILL COLLEGE  1997                     0.5018\n",
       "6858             SOUTHEASTERN BIBLE COLLEGE  1997                     0.4231\n",
       "6859                       STILLMAN COLLEGE  1997                     0.3730\n",
       "6862           TROY STATE UNIVERSITY-DOTHAN  1997                     1.0000\n",
       "6864       TROY STATE UNIVERSITY-MONTGOMERY  1997                     0.0562\n",
       "6865      TROY STATE UNIVERSITY-MAIN CAMPUS  1997                     0.4010\n",
       "6866                    TUSKEGEE UNIVERSITY  1997                     0.4516\n",
       "6870         UNIVERSITY OF ALASKA ANCHORAGE  1997                     0.1544\n",
       "6871         UNIVERSITY OF ALASKA FAIRBANKS  1997                     0.2233\n",
       "6872         UNIVERSITY OF ALASKA SOUTHEAST  1997                     0.1176\n",
       "6873              ALASKA PACIFIC UNIVERSITY  1997                     0.1667\n",
       "...                                     ...   ...                        ...\n",
       "124153          Mid-South Christian College  2013                     0.2500\n",
       "124174              Yeshiva Yesodei Hatorah  2013                     0.5000\n",
       "124217           Georgia Regents University  2013                     0.2935\n",
       "124218         Middle Georgia State College  2013                     0.1343\n",
       "124224             Virginia Baptist College  2013                     0.1000\n",
       "124239            DeVry College of New York  2013                     0.2155\n",
       "124240             DeVry University-Arizona  2013                     0.2675\n",
       "124241          DeVry University-California  2013                     0.3367\n",
       "124242            DeVry University-Colorado  2013                     0.3654\n",
       "124243             DeVry University-Florida  2013                     0.3799\n",
       "124244             DeVry University-Georgia  2013                     0.2968\n",
       "124245            DeVry University-Illinois  2013                     0.2939\n",
       "124246             DeVry University-Indiana  2013                     0.1250\n",
       "124248            DeVry University-Maryland  2013                     0.0000\n",
       "124250           DeVry University-Minnesota  2013                     0.2857\n",
       "124251            DeVry University-Missouri  2013                     0.2877\n",
       "124252              DeVry University-Nevada  2013                     0.6364\n",
       "124253          DeVry University-New Jersey  2013                     0.3979\n",
       "124254      DeVry University-North Carolina  2013                     0.0909\n",
       "124255                DeVry University-Ohio  2013                     0.3933\n",
       "124256            DeVry University-Oklahoma  2013                     0.5000\n",
       "124257              DeVry University-Oregon  2013                     0.0000\n",
       "124258        DeVry University-Pennsylvania  2013                     0.2370\n",
       "124259           DeVry University-Tennessee  2013                     0.0000\n",
       "124260               DeVry University-Texas  2013                     0.2919\n",
       "124262            DeVry University-Virginia  2013                     0.2247\n",
       "124263          DeVry University-Washington  2013                     0.2903\n",
       "124264           DeVry University-Wisconsin  2013                     0.0000\n",
       "124265          University of North Georgia  2013                     0.2597\n",
       "124266          South Georgia State College  2013                     0.1497\n",
       "\n",
       "[34880 rows x 3 columns]"
      ]
     },
     "execution_count": 56,
     "metadata": {},
     "output_type": "execute_result"
    }
   ],
   "source": [
    "CompletionRate.dropna(how='any')\n",
    "CompletionRate.dropna()"
   ]
  },
  {
   "cell_type": "markdown",
   "metadata": {},
   "source": [
    "## Collect the data for the final model..."
   ]
  },
  {
   "cell_type": "code",
   "execution_count": 25,
   "metadata": {
    "collapsed": true
   },
   "outputs": [],
   "source": [
    "modelStr = \"SELECT UNITID UnivID,\\\n",
    "                  INSTNM     College,\\\n",
    "                  CONTROL    CollegeType,\\\n",
    "                  COSTT4_A   Cost,\\\n",
    "                  TUITFTE    TuitionFTE,\\\n",
    "                  INEXPFTE   ExpenditureFTE,\\\n",
    "                  AVGFACSAL  AvgFacultySal,\\\n",
    "                  UGDS       UGEnrollment,\\\n",
    "                  SATMTMID   Math,\\\n",
    "                  SATVRMID   Verbal,\\\n",
    "                  SATWRMID   Writing,\\\n",
    "                  PCTPELL    PercentPell,\\\n",
    "                  DEBT_MDN   MedianDebt,\\\n",
    "                  INC_PCT_M1,\\\n",
    "                  INC_PCT_M2,\\\n",
    "                  INC_PCT_H1,\\\n",
    "                  INC_PCT_H2,\\\n",
    "                  mn_earn_wne_p10 E50\\\n",
    "           FROM  Scorecard\\\n",
    "           WHERE YEAR = 2011\\\n",
    "           AND   CURROPER != 'Not currently certified as an operating institution'\\\n",
    "           AND   PREDDEG = 'Predominantly bachelor''s-degree granting'\\\n",
    "           AND   SATMTMID IS NOT NULL\\\n",
    "           AND   SATMTMID != 'PrivacySuppressed'\\\n",
    "           AND   SATVRMID IS NOT NULL\\\n",
    "           AND   SATVRMID != 'PrivacySuppressed'\\\n",
    "           AND   SATWRMID IS NOT NULL\\\n",
    "           AND   SATWRMID != 'PrivacySuppressed'\\\n",
    "           AND   PCTPELL IS NOT NULL\\\n",
    "           AND   md_earn_wne_p10 != 'PrivacySuppressed'\\\n",
    "           AND   INC_PCT_M1 IS NOT NULL\\\n",
    "           AND   INC_PCT_M1 != 'PrivacySuppressed'\\\n",
    "           AND   INC_PCT_M2 IS NOT NULL\\\n",
    "           AND   INC_PCT_M2 != 'PrivacySuppressed'\\\n",
    "           AND   INC_PCT_H1 IS NOT NULL\\\n",
    "           AND   INC_PCT_H1 != 'PrivacySuppressed'\\\n",
    "           AND   INC_PCT_H2 IS NOT NULL\\\n",
    "           AND   INC_PCT_H2 != 'PrivacySuppressed'\"\n",
    "           \n",
    "        \n",
    "modelData = pd.read_sql(modelStr, conn)"
   ]
  },
  {
   "cell_type": "code",
   "execution_count": 26,
   "metadata": {
    "collapsed": false
   },
   "outputs": [
    {
     "data": {
      "text/html": [
       "<div>\n",
       "<table border=\"1\" class=\"dataframe\">\n",
       "  <thead>\n",
       "    <tr style=\"text-align: right;\">\n",
       "      <th></th>\n",
       "      <th>UnivID</th>\n",
       "      <th>Cost</th>\n",
       "      <th>TuitionFTE</th>\n",
       "      <th>ExpenditureFTE</th>\n",
       "      <th>AvgFacultySal</th>\n",
       "      <th>UGEnrollment</th>\n",
       "      <th>Math</th>\n",
       "      <th>Verbal</th>\n",
       "      <th>Writing</th>\n",
       "      <th>PercentPell</th>\n",
       "      <th>MedianDebt</th>\n",
       "      <th>INC_PCT_M1</th>\n",
       "      <th>INC_PCT_M2</th>\n",
       "      <th>INC_PCT_H1</th>\n",
       "      <th>INC_PCT_H2</th>\n",
       "      <th>E50</th>\n",
       "    </tr>\n",
       "  </thead>\n",
       "  <tbody>\n",
       "    <tr>\n",
       "      <th>count</th>\n",
       "      <td>427.000000</td>\n",
       "      <td>427.000000</td>\n",
       "      <td>412.000000</td>\n",
       "      <td>412.000000</td>\n",
       "      <td>426.000000</td>\n",
       "      <td>427.000000</td>\n",
       "      <td>427.000000</td>\n",
       "      <td>427.000000</td>\n",
       "      <td>427.000000</td>\n",
       "      <td>427.000000</td>\n",
       "      <td>427.000000</td>\n",
       "      <td>427.000000</td>\n",
       "      <td>427.000000</td>\n",
       "      <td>427.000000</td>\n",
       "      <td>427.000000</td>\n",
       "      <td>427.000000</td>\n",
       "    </tr>\n",
       "    <tr>\n",
       "      <th>mean</th>\n",
       "      <td>180784.227166</td>\n",
       "      <td>32554.037471</td>\n",
       "      <td>12771.577670</td>\n",
       "      <td>10048.378641</td>\n",
       "      <td>7197.002347</td>\n",
       "      <td>4276.704918</td>\n",
       "      <td>531.988290</td>\n",
       "      <td>526.843091</td>\n",
       "      <td>516.147541</td>\n",
       "      <td>0.363575</td>\n",
       "      <td>16807.750585</td>\n",
       "      <td>0.149288</td>\n",
       "      <td>0.169109</td>\n",
       "      <td>0.156432</td>\n",
       "      <td>0.177997</td>\n",
       "      <td>48812.177986</td>\n",
       "    </tr>\n",
       "    <tr>\n",
       "      <th>std</th>\n",
       "      <td>40813.268899</td>\n",
       "      <td>11909.723286</td>\n",
       "      <td>6276.650563</td>\n",
       "      <td>8259.316545</td>\n",
       "      <td>1848.839577</td>\n",
       "      <td>6145.828595</td>\n",
       "      <td>75.261811</td>\n",
       "      <td>70.167748</td>\n",
       "      <td>75.362749</td>\n",
       "      <td>0.143104</td>\n",
       "      <td>3841.041372</td>\n",
       "      <td>0.028067</td>\n",
       "      <td>0.032836</td>\n",
       "      <td>0.044651</td>\n",
       "      <td>0.099901</td>\n",
       "      <td>14029.601224</td>\n",
       "    </tr>\n",
       "    <tr>\n",
       "      <th>min</th>\n",
       "      <td>100858.000000</td>\n",
       "      <td>8986.000000</td>\n",
       "      <td>1969.000000</td>\n",
       "      <td>1324.000000</td>\n",
       "      <td>3364.000000</td>\n",
       "      <td>230.000000</td>\n",
       "      <td>355.000000</td>\n",
       "      <td>365.000000</td>\n",
       "      <td>350.000000</td>\n",
       "      <td>0.078500</td>\n",
       "      <td>5000.000000</td>\n",
       "      <td>0.078925</td>\n",
       "      <td>0.066667</td>\n",
       "      <td>0.015560</td>\n",
       "      <td>0.000000</td>\n",
       "      <td>26400.000000</td>\n",
       "    </tr>\n",
       "    <tr>\n",
       "      <th>25%</th>\n",
       "      <td>151319.500000</td>\n",
       "      <td>21362.000000</td>\n",
       "      <td>7731.750000</td>\n",
       "      <td>6263.500000</td>\n",
       "      <td>5923.500000</td>\n",
       "      <td>1341.500000</td>\n",
       "      <td>485.000000</td>\n",
       "      <td>480.000000</td>\n",
       "      <td>465.000000</td>\n",
       "      <td>0.265550</td>\n",
       "      <td>14409.500000</td>\n",
       "      <td>0.132881</td>\n",
       "      <td>0.147305</td>\n",
       "      <td>0.129842</td>\n",
       "      <td>0.095822</td>\n",
       "      <td>39850.000000</td>\n",
       "    </tr>\n",
       "    <tr>\n",
       "      <th>50%</th>\n",
       "      <td>183062.000000</td>\n",
       "      <td>32853.000000</td>\n",
       "      <td>12259.000000</td>\n",
       "      <td>7914.000000</td>\n",
       "      <td>6813.500000</td>\n",
       "      <td>2190.000000</td>\n",
       "      <td>520.000000</td>\n",
       "      <td>515.000000</td>\n",
       "      <td>505.000000</td>\n",
       "      <td>0.353300</td>\n",
       "      <td>17125.000000</td>\n",
       "      <td>0.147423</td>\n",
       "      <td>0.168269</td>\n",
       "      <td>0.160572</td>\n",
       "      <td>0.160759</td>\n",
       "      <td>46000.000000</td>\n",
       "    </tr>\n",
       "    <tr>\n",
       "      <th>75%</th>\n",
       "      <td>213906.500000</td>\n",
       "      <td>40798.000000</td>\n",
       "      <td>16526.500000</td>\n",
       "      <td>10522.750000</td>\n",
       "      <td>8140.500000</td>\n",
       "      <td>4521.000000</td>\n",
       "      <td>567.500000</td>\n",
       "      <td>565.000000</td>\n",
       "      <td>555.000000</td>\n",
       "      <td>0.442900</td>\n",
       "      <td>19500.000000</td>\n",
       "      <td>0.167222</td>\n",
       "      <td>0.188731</td>\n",
       "      <td>0.186025</td>\n",
       "      <td>0.243419</td>\n",
       "      <td>53500.000000</td>\n",
       "    </tr>\n",
       "    <tr>\n",
       "      <th>max</th>\n",
       "      <td>433660.000000</td>\n",
       "      <td>56641.000000</td>\n",
       "      <td>31562.000000</td>\n",
       "      <td>84831.000000</td>\n",
       "      <td>15866.000000</td>\n",
       "      <td>66864.000000</td>\n",
       "      <td>780.000000</td>\n",
       "      <td>745.000000</td>\n",
       "      <td>745.000000</td>\n",
       "      <td>0.891000</td>\n",
       "      <td>25000.000000</td>\n",
       "      <td>0.273834</td>\n",
       "      <td>0.282642</td>\n",
       "      <td>0.288433</td>\n",
       "      <td>0.452468</td>\n",
       "      <td>128400.000000</td>\n",
       "    </tr>\n",
       "  </tbody>\n",
       "</table>\n",
       "</div>"
      ],
      "text/plain": [
       "              UnivID          Cost    TuitionFTE  ExpenditureFTE  \\\n",
       "count     427.000000    427.000000    412.000000      412.000000   \n",
       "mean   180784.227166  32554.037471  12771.577670    10048.378641   \n",
       "std     40813.268899  11909.723286   6276.650563     8259.316545   \n",
       "min    100858.000000   8986.000000   1969.000000     1324.000000   \n",
       "25%    151319.500000  21362.000000   7731.750000     6263.500000   \n",
       "50%    183062.000000  32853.000000  12259.000000     7914.000000   \n",
       "75%    213906.500000  40798.000000  16526.500000    10522.750000   \n",
       "max    433660.000000  56641.000000  31562.000000    84831.000000   \n",
       "\n",
       "       AvgFacultySal  UGEnrollment        Math      Verbal     Writing  \\\n",
       "count     426.000000    427.000000  427.000000  427.000000  427.000000   \n",
       "mean     7197.002347   4276.704918  531.988290  526.843091  516.147541   \n",
       "std      1848.839577   6145.828595   75.261811   70.167748   75.362749   \n",
       "min      3364.000000    230.000000  355.000000  365.000000  350.000000   \n",
       "25%      5923.500000   1341.500000  485.000000  480.000000  465.000000   \n",
       "50%      6813.500000   2190.000000  520.000000  515.000000  505.000000   \n",
       "75%      8140.500000   4521.000000  567.500000  565.000000  555.000000   \n",
       "max     15866.000000  66864.000000  780.000000  745.000000  745.000000   \n",
       "\n",
       "       PercentPell    MedianDebt  INC_PCT_M1  INC_PCT_M2  INC_PCT_H1  \\\n",
       "count   427.000000    427.000000  427.000000  427.000000  427.000000   \n",
       "mean      0.363575  16807.750585    0.149288    0.169109    0.156432   \n",
       "std       0.143104   3841.041372    0.028067    0.032836    0.044651   \n",
       "min       0.078500   5000.000000    0.078925    0.066667    0.015560   \n",
       "25%       0.265550  14409.500000    0.132881    0.147305    0.129842   \n",
       "50%       0.353300  17125.000000    0.147423    0.168269    0.160572   \n",
       "75%       0.442900  19500.000000    0.167222    0.188731    0.186025   \n",
       "max       0.891000  25000.000000    0.273834    0.282642    0.288433   \n",
       "\n",
       "       INC_PCT_H2            E50  \n",
       "count  427.000000     427.000000  \n",
       "mean     0.177997   48812.177986  \n",
       "std      0.099901   14029.601224  \n",
       "min      0.000000   26400.000000  \n",
       "25%      0.095822   39850.000000  \n",
       "50%      0.160759   46000.000000  \n",
       "75%      0.243419   53500.000000  \n",
       "max      0.452468  128400.000000  "
      ]
     },
     "execution_count": 26,
     "metadata": {},
     "output_type": "execute_result"
    }
   ],
   "source": [
    "modelData.describe()"
   ]
  },
  {
   "cell_type": "code",
   "execution_count": 44,
   "metadata": {
    "collapsed": false
   },
   "outputs": [],
   "source": [
    "modelStr = \"SELECT UNITID UnivID,\\\n",
    "                  INSTNM     College,\\\n",
    "                  CONTROL    CollegeType,\\\n",
    "                  COSTT4_A   Cost,\\\n",
    "                  TUITFTE    TuitionFTE,\\\n",
    "                  INEXPFTE   ExpenditureFTE,\\\n",
    "                  AVGFACSAL  AvgFacultySal,\\\n",
    "                  UGDS       UGEnrollment,\\\n",
    "                  SATMTMID   Math,\\\n",
    "                  SATVRMID   Verbal,\\\n",
    "                  SATWRMID   Writing,\\\n",
    "                  PCTPELL    PercentPell,\\\n",
    "                  DEBT_MDN   MedianDebt,\\\n",
    "                  NPT4_PRIV  AvgNetPricePrivate,\\\n",
    "                  INC_PCT_M1,\\\n",
    "                  INC_PCT_M2,\\\n",
    "                  INC_PCT_H1,\\\n",
    "                  INC_PCT_H2,\\\n",
    "                  mn_earn_wne_p10 E50,\\\n",
    "                  md_earn_wne_p10 M50\\\n",
    "           FROM  Scorecard\\\n",
    "           WHERE YEAR = 2011\\\n",
    "           AND   CURROPER != 'Not currently certified as an operating institution'\\\n",
    "           AND   PREDDEG = 'Predominantly bachelor''s-degree granting'\\\n",
    "           AND   SATMTMID IS NOT NULL\\\n",
    "           AND   SATMTMID != 'PrivacySuppressed'\\\n",
    "           AND   SATVRMID IS NOT NULL\\\n",
    "           AND   SATVRMID != 'PrivacySuppressed'\\\n",
    "           AND   SATWRMID IS NOT NULL\\\n",
    "           AND   SATWRMID != 'PrivacySuppressed'\\\n",
    "           AND   PCTPELL IS NOT NULL\\\n",
    "           AND   md_earn_wne_p10 != 'PrivacySuppressed'\\\n",
    "           AND   INC_PCT_M1 IS NOT NULL\\\n",
    "           AND   INC_PCT_M1 != 'PrivacySuppressed'\\\n",
    "           AND   INC_PCT_M2 IS NOT NULL\\\n",
    "           AND   INC_PCT_M2 != 'PrivacySuppressed'\\\n",
    "           AND   INC_PCT_H1 IS NOT NULL\\\n",
    "           AND   INC_PCT_H1 != 'PrivacySuppressed'\\\n",
    "           AND   INC_PCT_H2 IS NOT NULL\\\n",
    "           AND   INC_PCT_H2 != 'PrivacySuppressed'\"\n",
    "           \n",
    "        \n",
    "modelData = pd.read_sql(modelStr, conn)"
   ]
  },
  {
   "cell_type": "code",
   "execution_count": 45,
   "metadata": {
    "collapsed": false
   },
   "outputs": [
    {
     "data": {
      "text/html": [
       "<div>\n",
       "<table border=\"1\" class=\"dataframe\">\n",
       "  <thead>\n",
       "    <tr style=\"text-align: right;\">\n",
       "      <th></th>\n",
       "      <th>UnivID</th>\n",
       "      <th>College</th>\n",
       "      <th>CollegeType</th>\n",
       "      <th>Cost</th>\n",
       "      <th>TuitionFTE</th>\n",
       "      <th>ExpenditureFTE</th>\n",
       "      <th>AvgFacultySal</th>\n",
       "      <th>UGEnrollment</th>\n",
       "      <th>Math</th>\n",
       "      <th>Verbal</th>\n",
       "      <th>Writing</th>\n",
       "      <th>PercentPell</th>\n",
       "      <th>MedianDebt</th>\n",
       "      <th>AvgNetPricePrivate</th>\n",
       "      <th>INC_PCT_M1</th>\n",
       "      <th>INC_PCT_M2</th>\n",
       "      <th>INC_PCT_H1</th>\n",
       "      <th>INC_PCT_H2</th>\n",
       "      <th>E50</th>\n",
       "      <th>M50</th>\n",
       "    </tr>\n",
       "  </thead>\n",
       "  <tbody>\n",
       "    <tr>\n",
       "      <th>0</th>\n",
       "      <td>100858</td>\n",
       "      <td>Auburn University</td>\n",
       "      <td>Public</td>\n",
       "      <td>21140</td>\n",
       "      <td>11043</td>\n",
       "      <td>10823</td>\n",
       "      <td>8808</td>\n",
       "      <td>20436</td>\n",
       "      <td>570</td>\n",
       "      <td>550</td>\n",
       "      <td>540</td>\n",
       "      <td>0.1767</td>\n",
       "      <td>17625</td>\n",
       "      <td>NaN</td>\n",
       "      <td>0.112864</td>\n",
       "      <td>0.152121</td>\n",
       "      <td>0.176831</td>\n",
       "      <td>0.296004</td>\n",
       "      <td>52100</td>\n",
       "      <td>45400</td>\n",
       "    </tr>\n",
       "    <tr>\n",
       "      <th>1</th>\n",
       "      <td>100937</td>\n",
       "      <td>Birmingham Southern College</td>\n",
       "      <td>Private nonprofit</td>\n",
       "      <td>39848</td>\n",
       "      <td>12707</td>\n",
       "      <td>9730</td>\n",
       "      <td>6745</td>\n",
       "      <td>1305</td>\n",
       "      <td>560</td>\n",
       "      <td>560</td>\n",
       "      <td>560</td>\n",
       "      <td>0.2412</td>\n",
       "      <td>18750</td>\n",
       "      <td>18928</td>\n",
       "      <td>0.140553</td>\n",
       "      <td>0.188940</td>\n",
       "      <td>0.175115</td>\n",
       "      <td>0.262673</td>\n",
       "      <td>45300</td>\n",
       "      <td>41900</td>\n",
       "    </tr>\n",
       "    <tr>\n",
       "      <th>2</th>\n",
       "      <td>101189</td>\n",
       "      <td>Faulkner University</td>\n",
       "      <td>Private nonprofit</td>\n",
       "      <td>25198</td>\n",
       "      <td>10041</td>\n",
       "      <td>4750</td>\n",
       "      <td>6747</td>\n",
       "      <td>2689</td>\n",
       "      <td>363</td>\n",
       "      <td>382</td>\n",
       "      <td>352</td>\n",
       "      <td>0.5801</td>\n",
       "      <td>18750</td>\n",
       "      <td>18597</td>\n",
       "      <td>0.140915</td>\n",
       "      <td>0.108292</td>\n",
       "      <td>0.090621</td>\n",
       "      <td>0.042139</td>\n",
       "      <td>43500</td>\n",
       "      <td>37600</td>\n",
       "    </tr>\n",
       "    <tr>\n",
       "      <th>3</th>\n",
       "      <td>101435</td>\n",
       "      <td>Huntingdon College</td>\n",
       "      <td>Private nonprofit</td>\n",
       "      <td>29369</td>\n",
       "      <td>8993</td>\n",
       "      <td>6254</td>\n",
       "      <td>5385</td>\n",
       "      <td>1110</td>\n",
       "      <td>506</td>\n",
       "      <td>518</td>\n",
       "      <td>477</td>\n",
       "      <td>0.4056</td>\n",
       "      <td>15000</td>\n",
       "      <td>16662</td>\n",
       "      <td>0.150000</td>\n",
       "      <td>0.184211</td>\n",
       "      <td>0.134211</td>\n",
       "      <td>0.151316</td>\n",
       "      <td>40300</td>\n",
       "      <td>37100</td>\n",
       "    </tr>\n",
       "    <tr>\n",
       "      <th>4</th>\n",
       "      <td>101541</td>\n",
       "      <td>Judson College</td>\n",
       "      <td>Private nonprofit</td>\n",
       "      <td>26090</td>\n",
       "      <td>5022</td>\n",
       "      <td>7617</td>\n",
       "      <td>5775</td>\n",
       "      <td>341</td>\n",
       "      <td>460</td>\n",
       "      <td>495</td>\n",
       "      <td>480</td>\n",
       "      <td>0.4348</td>\n",
       "      <td>12480</td>\n",
       "      <td>16012</td>\n",
       "      <td>0.211538</td>\n",
       "      <td>0.168269</td>\n",
       "      <td>0.110577</td>\n",
       "      <td>0.072115</td>\n",
       "      <td>33800</td>\n",
       "      <td>30700</td>\n",
       "    </tr>\n",
       "  </tbody>\n",
       "</table>\n",
       "</div>"
      ],
      "text/plain": [
       "   UnivID                      College        CollegeType   Cost  TuitionFTE  \\\n",
       "0  100858            Auburn University             Public  21140       11043   \n",
       "1  100937  Birmingham Southern College  Private nonprofit  39848       12707   \n",
       "2  101189          Faulkner University  Private nonprofit  25198       10041   \n",
       "3  101435           Huntingdon College  Private nonprofit  29369        8993   \n",
       "4  101541               Judson College  Private nonprofit  26090        5022   \n",
       "\n",
       "   ExpenditureFTE  AvgFacultySal  UGEnrollment  Math  Verbal  Writing  \\\n",
       "0           10823           8808         20436   570     550      540   \n",
       "1            9730           6745          1305   560     560      560   \n",
       "2            4750           6747          2689   363     382      352   \n",
       "3            6254           5385          1110   506     518      477   \n",
       "4            7617           5775           341   460     495      480   \n",
       "\n",
       "   PercentPell  MedianDebt  AvgNetPricePrivate  INC_PCT_M1  INC_PCT_M2  \\\n",
       "0       0.1767       17625                 NaN    0.112864    0.152121   \n",
       "1       0.2412       18750               18928    0.140553    0.188940   \n",
       "2       0.5801       18750               18597    0.140915    0.108292   \n",
       "3       0.4056       15000               16662    0.150000    0.184211   \n",
       "4       0.4348       12480               16012    0.211538    0.168269   \n",
       "\n",
       "   INC_PCT_H1  INC_PCT_H2    E50    M50  \n",
       "0    0.176831    0.296004  52100  45400  \n",
       "1    0.175115    0.262673  45300  41900  \n",
       "2    0.090621    0.042139  43500  37600  \n",
       "3    0.134211    0.151316  40300  37100  \n",
       "4    0.110577    0.072115  33800  30700  "
      ]
     },
     "execution_count": 45,
     "metadata": {},
     "output_type": "execute_result"
    }
   ],
   "source": [
    "modelData.head()"
   ]
  },
  {
   "cell_type": "code",
   "execution_count": null,
   "metadata": {
    "collapsed": true
   },
   "outputs": [],
   "source": []
  },
  {
   "cell_type": "markdown",
   "metadata": {},
   "source": [
    "## Get the geo-coordinates of the schools..."
   ]
  },
  {
   "cell_type": "code",
   "execution_count": null,
   "metadata": {
    "collapsed": true
   },
   "outputs": [],
   "source": [
    "schools2013LatLong = schoolsDF2013[['UNITID',\n",
    "                                    'INSTNM',\n",
    "                                    'LATITUDE',       \n",
    "                                    'LONGITUDE',      \n",
    "                                    'DISTANCEONLY',   \n",
    "                                    'DEATH_YR4_RT',   \n",
    "                                    'COMP_ORIG_YR4_RT', \n",
    "                                    'GRAD_DEBT_MDN']]"
   ]
  },
  {
   "cell_type": "code",
   "execution_count": null,
   "metadata": {
    "collapsed": true
   },
   "outputs": [],
   "source": [
    "schools2013LatLong1 = schoolsDF2013[['LATITUDE',\n",
    "                                     'LONGITUDE',\n",
    "                                     'INSTNM']]"
   ]
  },
  {
   "cell_type": "code",
   "execution_count": null,
   "metadata": {
    "collapsed": false
   },
   "outputs": [],
   "source": [
    "schools2013LatLong1 = schools2013LatLong1.replace('nan', np.nan)\n",
    "schools2013LatLong1 = schools2013LatLong1.dropna(axis=0, how='any')\n",
    "len(schools2013LatLong1)"
   ]
  },
  {
   "cell_type": "code",
   "execution_count": null,
   "metadata": {
    "collapsed": true
   },
   "outputs": [],
   "source": [
    "import codecs\n",
    "\n",
    "fhand = codecs.open('where.js','w', \"utf-8\")\n",
    "fhand.write(\"myData = [\\n\")\n",
    "count = 0\n",
    "\n",
    "for row in itertools.izip(schools2013LatLong1['LATITUDE'], schools2013LatLong1['LONGITUDE'], schools2013LatLong1['INSTNM']):   \n",
    "\n",
    "    try : \n",
    "        count = count + 1\n",
    "        if count > 1 : fhand.write(\",\\n\")\n",
    "        output = '['+str(row[0])+', '+str(row[1])+', \"'+ row[2]+'\"]'\n",
    "        fhand.write(output)\n",
    "    except:\n",
    "        continue\n",
    "\n",
    "fhand.write(\"\\n];\\n\")"
   ]
  },
  {
   "cell_type": "code",
   "execution_count": null,
   "metadata": {
    "collapsed": true
   },
   "outputs": [],
   "source": []
  }
 ],
 "metadata": {
  "kernelspec": {
   "display_name": "Python 2",
   "language": "python",
   "name": "python2"
  },
  "language_info": {
   "codemirror_mode": {
    "name": "ipython",
    "version": 2
   },
   "file_extension": ".py",
   "mimetype": "text/x-python",
   "name": "python",
   "nbconvert_exporter": "python",
   "pygments_lexer": "ipython2",
   "version": "2.7.10"
  }
 },
 "nbformat": 4,
 "nbformat_minor": 0
}
